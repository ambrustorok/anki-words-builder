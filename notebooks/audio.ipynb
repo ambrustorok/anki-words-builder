{
 "cells": [
  {
   "cell_type": "code",
   "execution_count": null,
   "metadata": {
    "vscode": {
     "languageId": "plaintext"
    }
   },
   "outputs": [],
   "source": [
    "import gradio as gr\n",
    "import numpy as np\n",
    "import io\n",
    "import soundfile as sf\n",
    "import pydub\n",
    "import random\n",
    "from openai import OpenAI\n",
    "from dotenv import load_dotenv\n",
    "load_dotenv()\n",
    "\n",
    "\n",
    "client = OpenAI()\n",
    "\n",
    "def generate_audio():\n",
    "    sample_rate = 44100  # 44.1 kHz\n",
    "    duration = 2  # 2 seconds\n",
    "    frequency = 440  # Frequency in Hz (A4 note)\n",
    "    t = np.linspace(0, duration, int(sample_rate * duration), False)\n",
    "    audio_data = 0.5 * np.sin(2 * np.pi * frequency * t)\n",
    "    \n",
    "    # Save to in-memory buffer\n",
    "    wav_buffer = io.BytesIO()\n",
    "    sf.write(wav_buffer, audio_data, sample_rate, format='WAV')\n",
    "    wav_buffer.seek(0)\n",
    "    \n",
    "    # Convert WAV to MP3 in memory\n",
    "    audio = pydub.AudioSegment.from_file(wav_buffer, format=\"wav\")\n",
    "    mp3_buffer = io.BytesIO()\n",
    "    audio.export(mp3_buffer, format=\"mp3\")\n",
    "    mp3_buffer.seek(0)\n",
    "    \n",
    "    # Convert MP3 buffer to NumPy array\n",
    "    audio_array = np.array(audio.get_array_of_samples(), dtype=np.float32) / 32768.0\n",
    "    \n",
    "    return sample_rate, audio_array\n",
    "\n",
    "def generate_audio_binary(text):\n",
    "    voices = [\"alloy\", \"echo\", \"fable\", \"onyx\", \"nova\", \"shimmer\"]\n",
    "    selected_voice = random.choice(voices)\n",
    "    \n",
    "    with client.audio.speech.with_streaming_response.create(\n",
    "        model=\"tts-1\", voice=selected_voice, input=text, response_format=\"mp3\"\n",
    "    ) as response:\n",
    "        mp3_buffer = io.BytesIO()\n",
    "        for chunk in response.iter_bytes():\n",
    "            mp3_buffer.write(chunk)\n",
    "        mp3_buffer.seek(0)\n",
    "    \n",
    "    # Convert MP3 buffer to NumPy array\n",
    "    audio = pydub.AudioSegment.from_file(mp3_buffer, format=\"mp3\")\n",
    "    audio_array = np.array(audio.get_array_of_samples(), dtype=np.float32) / 32768.0\n",
    "    \n",
    "    return 44100, audio_array\n",
    "\n",
    "with gr.Blocks() as demo:\n",
    "    gr.Markdown(\"## Simple Audio Generator and Player\")\n",
    "    text_input = gr.Textbox(label=\"Enter Text for TTS\")\n",
    "    audio_output = gr.Audio()\n",
    "    generate_button = gr.Button(\"Generate and Play Audio\")\n",
    "    tts_button = gr.Button(\"Generate TTS Audio\")\n",
    "    \n",
    "    generate_button.click(fn=generate_audio, outputs=audio_output)\n",
    "    tts_button.click(fn=generate_audio_binary, inputs=text_input, outputs=audio_output)\n",
    "\n",
    "demo.launch()\n"
   ]
  },
  {
   "cell_type": "code",
   "execution_count": null,
   "metadata": {
    "vscode": {
     "languageId": "plaintext"
    }
   },
   "outputs": [],
   "source": []
  }
 ],
 "metadata": {
  "language_info": {
   "name": "python"
  }
 },
 "nbformat": 4,
 "nbformat_minor": 2
}
