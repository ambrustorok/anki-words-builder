{
 "cells": [
  {
   "cell_type": "code",
   "execution_count": 32,
   "id": "2dfcd215-248d-4b82-9a7a-cc7e27e60d47",
   "metadata": {},
   "outputs": [
    {
     "data": {
      "text/plain": [
       "'1.92.3'"
      ]
     },
     "execution_count": 32,
     "metadata": {},
     "output_type": "execute_result"
    }
   ],
   "source": [
    "import openai\n",
    "\n",
    "openai.__version__"
   ]
  },
  {
   "cell_type": "code",
   "execution_count": 12,
   "id": "5cbba6e7-3c42-4210-8aad-578a3078e109",
   "metadata": {},
   "outputs": [
    {
     "data": {
      "text/plain": [
       "True"
      ]
     },
     "execution_count": 12,
     "metadata": {},
     "output_type": "execute_result"
    }
   ],
   "source": [
    "from pathlib import Path\n",
    "import os\n",
    "\n",
    "from openai import OpenAI\n",
    "from dotenv import load_dotenv\n",
    "\n",
    "load_dotenv()\n",
    "openai_key = os.environ.get(\"OPENAI_API_KEY\")"
   ]
  },
  {
   "cell_type": "code",
   "execution_count": 21,
   "id": "39ac4641-7866-42b6-b846-63bc40dcd16d",
   "metadata": {},
   "outputs": [
    {
     "data": {
      "text/plain": [
       "PosixPath('/home/ambrus/repos/anki-words-builder/notebooks/audio/speech.mp3')"
      ]
     },
     "execution_count": 21,
     "metadata": {},
     "output_type": "execute_result"
    }
   ],
   "source": []
  },
  {
   "cell_type": "code",
   "execution_count": 24,
   "id": "709743ac-eaaf-4cc6-8bf4-b1f30c3140bf",
   "metadata": {},
   "outputs": [],
   "source": [
    "client = OpenAI()\n",
    "speech_file_path = Path.cwd() / \"audio\" / \"speech.mp3\"\n",
    "parent_dir = Path(speech_file_path).parent\n",
    "if not os.path.exists(parent_dir):\n",
    "    os.mkdir(parent_dir)"
   ]
  },
  {
   "cell_type": "code",
   "execution_count": 31,
   "id": "a4008e68-008c-4369-8b4d-a45efaf0ed1c",
   "metadata": {},
   "outputs": [
    {
     "data": {
      "text/plain": [
       "<openai._legacy_response.HttpxBinaryResponseContent at 0x7f005d79c440>"
      ]
     },
     "execution_count": 31,
     "metadata": {},
     "output_type": "execute_result"
    }
   ],
   "source": [
    "response = client.audio.speech.create(\n",
    "    model=\"gpt-4o-mini-tts\",\n",
    "    voice=\"nova\",\n",
    "    input=\"Godmorgen\",\n",
    "    instructions=\"Speak slowly and clearly, because you're teaching the word to a beginner Danish learner\",\n",
    "    response_format=\"mp3\"\n",
    ")\n",
    "response"
   ]
  },
  {
   "cell_type": "code",
   "execution_count": 29,
   "id": "52655ce9-4be9-4070-aea3-451080f2a95f",
   "metadata": {},
   "outputs": [],
   "source": [
    "from pathlib import Path\n",
    "from openai import OpenAI\n",
    "\n",
    "client = OpenAI()\n",
    "\n",
    "def synthesize_danish_audio(text: str, filename: str):\n",
    "    is_sentence = text.count(\" \") > 1\n",
    "    instructions = (\n",
    "        \"Speak naturally, as if you're talking to a Danish person in an everyday scenario.\"\n",
    "        if is_sentence else\n",
    "        \"Speak slowly and clearly, because you're teaching the word to a beginner Danish learner.\"\n",
    "    )\n",
    "\n",
    "    speech_path = parent_dir / filename\n",
    "    with client.audio.speech.with_streaming_response.create(\n",
    "        model=\"gpt-4o-mini-tts\",\n",
    "        voice=\"nova\",\n",
    "        input=text,\n",
    "        instructions=instructions,\n",
    "    ) as response:\n",
    "        response.stream_to_file(speech_path)\n",
    "\n",
    "# Example 1: Danish word\n",
    "synthesize_danish_audio(\"Godmorgen\", \"danish_word.mp3\")\n",
    "\n",
    "# Example 2: Danish sentence\n",
    "synthesize_danish_audio(\"Jeg vil gerne bestille en kop kaffe.\", \"danish_sentence.mp3\")\n"
   ]
  },
  {
   "cell_type": "code",
   "execution_count": null,
   "id": "35c062c2-851b-4fa9-87a5-23a7648ff8a1",
   "metadata": {},
   "outputs": [],
   "source": []
  },
  {
   "cell_type": "code",
   "execution_count": null,
   "id": "469de9f3-ca13-4ac8-930d-3aa3faf7a440",
   "metadata": {},
   "outputs": [],
   "source": []
  }
 ],
 "metadata": {
  "kernelspec": {
   "display_name": "Python 3 (ipykernel)",
   "language": "python",
   "name": "python3"
  },
  "language_info": {
   "codemirror_mode": {
    "name": "ipython",
    "version": 3
   },
   "file_extension": ".py",
   "mimetype": "text/x-python",
   "name": "python",
   "nbconvert_exporter": "python",
   "pygments_lexer": "ipython3",
   "version": "3.13.3"
  }
 },
 "nbformat": 4,
 "nbformat_minor": 5
}
