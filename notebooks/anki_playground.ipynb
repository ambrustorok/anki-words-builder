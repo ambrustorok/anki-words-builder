{
 "cells": [
  {
   "cell_type": "markdown",
   "metadata": {},
   "source": [
    "- `genanki` is awesome but it can not update any existing decks\n",
    "- You **always** create a new one\n",
    "- Therefor you need to store your cards somewhere else"
   ]
  },
  {
   "cell_type": "code",
   "execution_count": 3,
   "metadata": {},
   "outputs": [],
   "source": [
    "import genanki\n",
    "import os\n",
    "import json\n",
    "import sqlite3\n",
    "import subprocess\n",
    "import shutil\n",
    "\n",
    "\n",
    "def create_model(model_id, model_name):\n",
    "    fields = [\n",
    "        {\"name\": \"Front\"},\n",
    "        {\"name\": \"Back\"},\n",
    "        {\"name\": \"FrontAudio\"},\n",
    "        {\"name\": \"BackAudio\"},\n",
    "    ]\n",
    "    templates = [\n",
    "        {\n",
    "            \"name\": \"Card 1\",\n",
    "            \"qfmt\": \"{{Front}}<br>{{FrontAudio}}\",\n",
    "            \"afmt\": '{{FrontSide}}<hr id=\"answer\">{{Back}}<br>{{BackAudio}}',\n",
    "        },\n",
    "    ]\n",
    "    return genanki.Model(model_id, model_name, fields=fields, templates=templates)\n",
    "\n",
    "\n",
    "def create_note(model, front, back, front_audio_filename, back_audio_filename):\n",
    "    print(front_audio_filename)\n",
    "    print(back_audio_filename)\n",
    "    return genanki.Note(\n",
    "        model=model,\n",
    "        fields=[\n",
    "            front,\n",
    "            back,\n",
    "            f\"[sound:{front_audio_filename}]\" if front_audio_filename else \"\",\n",
    "            f\"[sound:{back_audio_filename}]\" if back_audio_filename else \"\",\n",
    "        ],\n",
    "    )\n",
    "\n",
    "\n",
    "def create_or_get_deck(deck_id, deck_name):\n",
    "    return genanki.Deck(deck_id, deck_name)\n",
    "\n",
    "\n",
    "def add_card_to_deck(deck, note):\n",
    "    deck.add_note(note)\n",
    "\n",
    "\n",
    "def save_deck(deck, media_files, output_path):\n",
    "    package = genanki.Package(deck)\n",
    "    package.media_files = media_files\n",
    "    package.write_to_file(output_path)\n",
    "\n",
    "\n",
    "def get_windows_username():\n",
    "    try:\n",
    "        result = subprocess.run(\n",
    "            [\"cmd.exe\", \"/c\", \"echo %USERNAME%\"],\n",
    "            capture_output=True,\n",
    "            text=True,\n",
    "            check=True,\n",
    "        )\n",
    "        return result.stdout.strip()\n",
    "    except subprocess.CalledProcessError:\n",
    "        print(\"Failed to get Windows username\")\n",
    "        return None\n",
    "\n",
    "\n",
    "def get_anki_base_dir():\n",
    "    windows_username = get_windows_username()\n",
    "    if not windows_username:\n",
    "        return None\n",
    "    return f\"C:/Users/{windows_username}/AppData/Roaming/Anki2\"\n",
    "\n",
    "\n",
    "def copy_to_anki_media_folder(file_path):\n",
    "    anki_base_dir = get_anki_base_dir()\n",
    "    if not anki_base_dir:\n",
    "        print(\"Anki installation not found.\")\n",
    "        return None\n",
    "\n",
    "    media_folder = os.path.join(anki_base_dir, \"User 1\", \"collection.media\")\n",
    "    if not os.path.exists(media_folder):\n",
    "        print(f\"Anki media folder not found at path: {media_folder}\")\n",
    "        return None\n",
    "\n",
    "    filename = os.path.basename(file_path)\n",
    "    destination = os.path.join(media_folder, filename)\n",
    "\n",
    "    try:\n",
    "        shutil.copy2(file_path, destination)\n",
    "        print(f\"Copied {file_path} to {destination}\")\n",
    "        return filename\n",
    "    except Exception as e:\n",
    "        print(f\"Failed to copy file to Anki media folder: {e}\")\n",
    "        return None\n",
    "\n",
    "\n",
    "def insert_or_create_anki_deck(\n",
    "    deck_id, deck_name, model_id, model_name, cards, output_path\n",
    "):\n",
    "    model = create_model(model_id, model_name)\n",
    "\n",
    "    # Check if deck file already exists\n",
    "    if os.path.exists(output_path):\n",
    "        print(f\"Deck file {output_path} already exists, updating it.\")\n",
    "\n",
    "        # Open existing deck information (you may need a method to keep track of added cards)\n",
    "        # For now, we assume you're managing card uniqueness through `cards` logic\n",
    "        deck = genanki.Deck(deck_id, deck_name)\n",
    "    else:\n",
    "        print(f\"Deck file {output_path} does not exist, creating a new one.\")\n",
    "        deck = create_or_get_deck(deck_id, deck_name)\n",
    "\n",
    "    media_files = []\n",
    "\n",
    "    print(f\"Adding {len(cards)} cards to the deck...\")\n",
    "    for i, card in enumerate(cards, 1):\n",
    "        print(f\"Processing card {i}/{len(cards)}\")\n",
    "\n",
    "        if card.get(\"front_audio_path\"):\n",
    "            front_audio_filename = os.path.basename(card[\"front_audio_path\"])\n",
    "            if front_audio_filename:\n",
    "                media_files.append(card[\"front_audio_path\"])\n",
    "        else:\n",
    "            front_audio_filename = None\n",
    "\n",
    "        if card.get(\"back_audio_path\"):\n",
    "            back_audio_filename = os.path.basename(card[\"back_audio_path\"])\n",
    "            if back_audio_filename:\n",
    "                media_files.append(card[\"back_audio_path\"])\n",
    "        else:\n",
    "            back_audio_filename = None\n",
    "\n",
    "        note = create_note(\n",
    "            model,\n",
    "            card[\"front\"],\n",
    "            card[\"back\"],\n",
    "            front_audio_filename,\n",
    "            back_audio_filename,\n",
    "        )\n",
    "        # Add only unique cards (optional: check duplicates manually)\n",
    "        if note not in deck.notes:  # Ensure the note isn't already in the deck\n",
    "            add_card_to_deck(deck, note)\n",
    "\n",
    "    # Save the new or updated deck\n",
    "    save_deck(deck, media_files, output_path)\n",
    "    print(f\"Deck saved to {output_path}\")\n",
    "    print(f\"Total cards in deck: {len(deck.notes)}\")\n",
    "\n",
    "    # Copy the deck file to Anki's collection folder\n",
    "    anki_base_dir = get_anki_base_dir()\n",
    "    if anki_base_dir:\n",
    "        collection_folder = os.path.join(anki_base_dir, \"User 1\")\n",
    "        if os.path.exists(collection_folder):\n",
    "            destination = os.path.join(collection_folder, os.path.basename(output_path))\n",
    "            shutil.copy2(output_path, destination)\n",
    "            print(f\"Copied deck file to Anki collection folder: {destination}\")\n",
    "        else:\n",
    "            print(f\"Anki collection folder not found: {collection_folder}\")\n",
    "    else:\n",
    "        print(\n",
    "            \"Could not determine Anki collection folder. Please import the deck manually.\"\n",
    "        )\n",
    "\n",
    "    return deck\n"
   ]
  },
  {
   "cell_type": "code",
   "execution_count": 5,
   "metadata": {},
   "outputs": [],
   "source": [
    "deck_id = 2059400110\n",
    "deck_name = \"Danish\"\n",
    "model_id = 1607392319\n",
    "model_name = \"Danish with Audio\"\n",
    "output_path = \"/mnt/d/OneDrive/Projects/anki-words-builder/src/danish_deck.apkg\""
   ]
  },
  {
   "cell_type": "code",
   "execution_count": 4,
   "metadata": {},
   "outputs": [
    {
     "data": {
      "text/plain": [
       "Model(model_id=1607392319, name='Danish with Audio', fields=[{'name': 'Front'}, {'name': 'Back'}, {'name': 'FrontAudio'}, {'name': 'BackAudio'}], templates=[{'name': 'Card 1', 'qfmt': '{{Front}}<br>{{FrontAudio}}', 'afmt': '{{FrontSide}}<hr id=\"answer\">{{Back}}<br>{{BackAudio}}'}], css='', model_type=0)"
      ]
     },
     "execution_count": 4,
     "metadata": {},
     "output_type": "execute_result"
    }
   ],
   "source": [
    "model = create_model(model_id, model_name)\n",
    "model"
   ]
  },
  {
   "cell_type": "code",
   "execution_count": 6,
   "metadata": {},
   "outputs": [
    {
     "name": "stdout",
     "output_type": "stream",
     "text": [
      "Deck file /mnt/d/OneDrive/Projects/anki-words-builder/src/danish_deck.apkg already exists, updating it.\n"
     ]
    }
   ],
   "source": [
    "# Check if deck file already exists\n",
    "if os.path.exists(output_path):\n",
    "    print(f\"Deck file {output_path} already exists, updating it.\")\n",
    "    # Open existing deck information (you may need a method to keep track of added cards)\n",
    "    # For now, we assume you're managing card uniqueness through `cards` logic\n",
    "    deck = genanki.Deck(deck_id, deck_name)\n",
    "else:\n",
    "    print(f\"Deck file {output_path} does not exist, creating a new one.\")\n",
    "    deck = create_or_get_deck(deck_id, deck_name)"
   ]
  },
  {
   "cell_type": "code",
   "execution_count": 11,
   "metadata": {},
   "outputs": [
    {
     "data": {
      "text/plain": [
       "[]"
      ]
     },
     "execution_count": 11,
     "metadata": {},
     "output_type": "execute_result"
    }
   ],
   "source": [
    "deck."
   ]
  },
  {
   "cell_type": "code",
   "execution_count": null,
   "metadata": {},
   "outputs": [],
   "source": [
    "media_files = []\n",
    "print(f\"Adding {len(cards)} cards to the deck...\")"
   ]
  },
  {
   "cell_type": "code",
   "execution_count": null,
   "metadata": {},
   "outputs": [],
   "source": [
    "\n",
    "\n",
    "\n",
    "for i, card in enumerate(cards, 1):\n",
    "    print(f\"Processing card {i}/{len(cards)}\")\n",
    "\n",
    "    if card.get(\"front_audio_path\"):\n",
    "        front_audio_filename = os.path.basename(card[\"front_audio_path\"])\n",
    "        if front_audio_filename:\n",
    "            media_files.append(card[\"front_audio_path\"])\n",
    "    else:\n",
    "        front_audio_filename = None\n",
    "\n",
    "    if card.get(\"back_audio_path\"):\n",
    "        back_audio_filename = os.path.basename(card[\"back_audio_path\"])\n",
    "        if back_audio_filename:\n",
    "            media_files.append(card[\"back_audio_path\"])\n",
    "    else:\n",
    "        back_audio_filename = None\n",
    "\n",
    "    note = create_note(\n",
    "        model,\n",
    "        card[\"front\"],\n",
    "        card[\"back\"],\n",
    "        front_audio_filename,\n",
    "        back_audio_filename,\n",
    "    )\n",
    "    # Add only unique cards (optional: check duplicates manually)\n",
    "    if note not in deck.notes:  # Ensure the note isn't already in the deck\n",
    "        add_card_to_deck(deck, note)\n",
    "\n",
    "# Save the new or updated deck\n",
    "save_deck(deck, media_files, output_path)\n",
    "print(f\"Deck saved to {output_path}\")\n",
    "print(f\"Total cards in deck: {len(deck.notes)}\")\n",
    "\n",
    "# Copy the deck file to Anki's collection folder\n",
    "anki_base_dir = get_anki_base_dir()\n",
    "if anki_base_dir:\n",
    "    collection_folder = os.path.join(anki_base_dir, \"User 1\")\n",
    "    if os.path.exists(collection_folder):\n",
    "        destination = os.path.join(collection_folder, os.path.basename(output_path))\n",
    "        shutil.copy2(output_path, destination)\n",
    "        print(f\"Copied deck file to Anki collection folder: {destination}\")\n",
    "    else:\n",
    "        print(f\"Anki collection folder not found: {collection_folder}\")\n",
    "else:\n",
    "    print(\n",
    "        \"Could not determine Anki collection folder. Please import the deck manually.\"\n",
    "    )"
   ]
  },
  {
   "cell_type": "code",
   "execution_count": 49,
   "metadata": {},
   "outputs": [],
   "source": [
    "import os\n",
    "import genanki\n",
    "import json\n",
    "\n",
    "class AnkiDeckManager:\n",
    "    def __init__(self, deck_name, model_id, model_name, file_path, db_path):\n",
    "        self.deck_name = deck_name\n",
    "        self.model_id = model_id\n",
    "        self.model_name = model_name\n",
    "        self.file_path = file_path\n",
    "        self.db_path = db_path\n",
    "        self.cards = self.load_cards_from_db()\n",
    "\n",
    "    def create_model(self):\n",
    "        fields = [\n",
    "            {\"name\": \"Front\"},\n",
    "            {\"name\": \"Back\"},\n",
    "            {\"name\": \"FrontAudio\"},\n",
    "            {\"name\": \"BackAudio\"},\n",
    "        ]\n",
    "        templates = [\n",
    "            {\n",
    "                \"name\": \"Card 1\",\n",
    "                \"qfmt\": \"{{Front}}<br>{{FrontAudio}}\",\n",
    "                \"afmt\": '{{FrontSide}}<hr id=\"answer\">{{Back}}<br>{{BackAudio}}',\n",
    "            },\n",
    "        ]\n",
    "        return genanki.Model(self.model_id, self.model_name, fields=fields, templates=templates)\n",
    "\n",
    "    def create_deck(self):\n",
    "        deck = genanki.Deck(hash(self.deck_name), self.deck_name)\n",
    "        return deck\n",
    "\n",
    "    def add_card(self, front, back, front_audio_path, back_audio_path):\n",
    "        note = genanki.Note(\n",
    "            model=self.create_model(),\n",
    "            fields=[front, back, front_audio_path, back_audio_path],\n",
    "        )\n",
    "        self.cards.append({\n",
    "            \"front\": front,\n",
    "            \"back\": back,\n",
    "            \"front_audio\": front_audio_path,\n",
    "            \"back_audio\": back_audio_path\n",
    "        })\n",
    "        self.save_cards_to_db()\n",
    "        return note\n",
    "\n",
    "    def save_deck(self, deck, notes):\n",
    "        package = genanki.Package(deck)\n",
    "        package.media_files = [note.fields[2] for note in notes] + [note.fields[3] for note in notes]\n",
    "        package.write_to_file(self.file_path)\n",
    "\n",
    "    def load_cards_from_db(self):\n",
    "        try:\n",
    "            with open(self.db_path, \"r\") as f:\n",
    "                return json.load(f)\n",
    "        except FileNotFoundError:\n",
    "            return []\n",
    "\n",
    "    def save_cards_to_db(self):\n",
    "        with open(self.db_path, \"w\") as f:\n",
    "            json.dump(self.cards, f)\n",
    "\n",
    "# Usage example\n",
    "deck_manager = AnkiDeckManager(\n",
    "    deck_name=\"My Language Learning Deck\",\n",
    "    model_id=12345678,\n",
    "    model_name=\"Language Learning Model\",\n",
    "    file_path=\"/mnt/d/OneDrive/Projects/anki-words-builder/file.apkg\",\n",
    "    db_path=\"/mnt/d/OneDrive/Projects/anki-words-builder/cards.json\"\n",
    ")\n",
    "\n",
    "deck = deck_manager.create_deck()\n",
    "\n",
    "for card in deck_manager.cards:\n",
    "    note = deck_manager.add_card(\n",
    "        front=card[\"front\"],\n",
    "        back=card[\"back\"],\n",
    "        front_audio_path=card[\"front_audio\"],\n",
    "        back_audio_path=card[\"back_audio\"]\n",
    "    )\n",
    "    deck.add_note(note)\n",
    "\n",
    "deck_manager.save_deck(deck, [note for note in deck.notes])"
   ]
  },
  {
   "cell_type": "code",
   "execution_count": 62,
   "metadata": {},
   "outputs": [],
   "source": [
    "note = deck_manager.add_card(\n",
    "    front='<div>How do you say \"hello\" in Spanish?</div>',\n",
    "    back='<div>Hola</div>',\n",
    "    front_audio_path='/mnt/d/OneDrive/Projects/anki-words-builder/notebooks/audio_en enke.mp3',\n",
    "    back_audio_path='/mnt/d/OneDrive/Projects/anki-words-builder/notebooks/audio_Det tror jeg.mp3'\n",
    ")"
   ]
  },
  {
   "cell_type": "code",
   "execution_count": 55,
   "metadata": {},
   "outputs": [
    {
     "data": {
      "text/plain": [
       "[{'front': '<div>How do you say \"hello\" in Spanish?</div>',\n",
       "  'back': '<div>Hola</div>',\n",
       "  'front_audio': '/mnt/d/OneDrive/Projects/anki-words-builder/notebooks/audio_en enke.mp3',\n",
       "  'back_audio': '/mnt/d/OneDrive/Projects/anki-words-builder/notebooks/audio_Det tror jeg.mp3'},\n",
       " {'front': '<div>How do you say \"hello\" in Spanish?</div>',\n",
       "  'back': '<div>Hola</div>',\n",
       "  'front_audio': '/mnt/d/OneDrive/Projects/anki-words-builder/notebooks/audio_en enke.mp3',\n",
       "  'back_audio': '/mnt/d/OneDrive/Projects/anki-words-builder/notebooks/audio_Det tror jeg.mp3'},\n",
       " {'front': '<div>How do you say \"hello\" in Spanish?</div>',\n",
       "  'back': '<div>Hola</div>',\n",
       "  'front_audio': '/mnt/d/OneDrive/Projects/anki-words-builder/notebooks/audio_en enke.mp3',\n",
       "  'back_audio': '/mnt/d/OneDrive/Projects/anki-words-builder/notebooks/audio_Det tror jeg.mp3'}]"
      ]
     },
     "execution_count": 55,
     "metadata": {},
     "output_type": "execute_result"
    }
   ],
   "source": [
    "deck_manager.cards"
   ]
  },
  {
   "cell_type": "code",
   "execution_count": 58,
   "metadata": {},
   "outputs": [
    {
     "ename": "JSONDecodeError",
     "evalue": "Expecting property name enclosed in double quotes: line 1 column 270273 (char 270272)",
     "output_type": "error",
     "traceback": [
      "\u001b[0;31m---------------------------------------------------------------------------\u001b[0m",
      "\u001b[0;31mJSONDecodeError\u001b[0m                           Traceback (most recent call last)",
      "Cell \u001b[0;32mIn[58], line 2\u001b[0m\n\u001b[1;32m      1\u001b[0m \u001b[38;5;66;03m# Usage example\u001b[39;00m\n\u001b[0;32m----> 2\u001b[0m deck_manager \u001b[38;5;241m=\u001b[39m \u001b[43mAnkiDeckManager\u001b[49m\u001b[43m(\u001b[49m\n\u001b[1;32m      3\u001b[0m \u001b[43m    \u001b[49m\u001b[43mdeck_name\u001b[49m\u001b[38;5;241;43m=\u001b[39;49m\u001b[38;5;124;43m\"\u001b[39;49m\u001b[38;5;124;43mMy Language Learning Deck\u001b[39;49m\u001b[38;5;124;43m\"\u001b[39;49m\u001b[43m,\u001b[49m\n\u001b[1;32m      4\u001b[0m \u001b[43m    \u001b[49m\u001b[43mmodel_id\u001b[49m\u001b[38;5;241;43m=\u001b[39;49m\u001b[38;5;241;43m12345678\u001b[39;49m\u001b[43m,\u001b[49m\n\u001b[1;32m      5\u001b[0m \u001b[43m    \u001b[49m\u001b[43mmodel_name\u001b[49m\u001b[38;5;241;43m=\u001b[39;49m\u001b[38;5;124;43m\"\u001b[39;49m\u001b[38;5;124;43mLanguage Learning Model\u001b[39;49m\u001b[38;5;124;43m\"\u001b[39;49m\u001b[43m,\u001b[49m\n\u001b[1;32m      6\u001b[0m \u001b[43m    \u001b[49m\u001b[43mfile_path\u001b[49m\u001b[38;5;241;43m=\u001b[39;49m\u001b[38;5;124;43m\"\u001b[39;49m\u001b[38;5;124;43m/mnt/d/OneDrive/Projects/anki-words-builder/file.apkg\u001b[39;49m\u001b[38;5;124;43m\"\u001b[39;49m\u001b[43m,\u001b[49m\n\u001b[1;32m      7\u001b[0m \u001b[43m    \u001b[49m\u001b[43mdb_path\u001b[49m\u001b[38;5;241;43m=\u001b[39;49m\u001b[38;5;124;43m\"\u001b[39;49m\u001b[38;5;124;43m/mnt/d/OneDrive/Projects/anki-words-builder/cards.json\u001b[39;49m\u001b[38;5;124;43m\"\u001b[39;49m\n\u001b[1;32m      8\u001b[0m \u001b[43m)\u001b[49m\n",
      "Cell \u001b[0;32mIn[49], line 12\u001b[0m, in \u001b[0;36mAnkiDeckManager.__init__\u001b[0;34m(self, deck_name, model_id, model_name, file_path, db_path)\u001b[0m\n\u001b[1;32m     10\u001b[0m \u001b[38;5;28mself\u001b[39m\u001b[38;5;241m.\u001b[39mfile_path \u001b[38;5;241m=\u001b[39m file_path\n\u001b[1;32m     11\u001b[0m \u001b[38;5;28mself\u001b[39m\u001b[38;5;241m.\u001b[39mdb_path \u001b[38;5;241m=\u001b[39m db_path\n\u001b[0;32m---> 12\u001b[0m \u001b[38;5;28mself\u001b[39m\u001b[38;5;241m.\u001b[39mcards \u001b[38;5;241m=\u001b[39m \u001b[38;5;28;43mself\u001b[39;49m\u001b[38;5;241;43m.\u001b[39;49m\u001b[43mload_cards_from_db\u001b[49m\u001b[43m(\u001b[49m\u001b[43m)\u001b[49m\n",
      "Cell \u001b[0;32mIn[49], line 56\u001b[0m, in \u001b[0;36mAnkiDeckManager.load_cards_from_db\u001b[0;34m(self)\u001b[0m\n\u001b[1;32m     54\u001b[0m \u001b[38;5;28;01mtry\u001b[39;00m:\n\u001b[1;32m     55\u001b[0m     \u001b[38;5;28;01mwith\u001b[39;00m \u001b[38;5;28mopen\u001b[39m(\u001b[38;5;28mself\u001b[39m\u001b[38;5;241m.\u001b[39mdb_path, \u001b[38;5;124m\"\u001b[39m\u001b[38;5;124mr\u001b[39m\u001b[38;5;124m\"\u001b[39m) \u001b[38;5;28;01mas\u001b[39;00m f:\n\u001b[0;32m---> 56\u001b[0m         \u001b[38;5;28;01mreturn\u001b[39;00m \u001b[43mjson\u001b[49m\u001b[38;5;241;43m.\u001b[39;49m\u001b[43mload\u001b[49m\u001b[43m(\u001b[49m\u001b[43mf\u001b[49m\u001b[43m)\u001b[49m\n\u001b[1;32m     57\u001b[0m \u001b[38;5;28;01mexcept\u001b[39;00m \u001b[38;5;167;01mFileNotFoundError\u001b[39;00m:\n\u001b[1;32m     58\u001b[0m     \u001b[38;5;28;01mreturn\u001b[39;00m []\n",
      "File \u001b[0;32m/usr/lib/python3.10/json/__init__.py:293\u001b[0m, in \u001b[0;36mload\u001b[0;34m(fp, cls, object_hook, parse_float, parse_int, parse_constant, object_pairs_hook, **kw)\u001b[0m\n\u001b[1;32m    274\u001b[0m \u001b[38;5;28;01mdef\u001b[39;00m \u001b[38;5;21mload\u001b[39m(fp, \u001b[38;5;241m*\u001b[39m, \u001b[38;5;28mcls\u001b[39m\u001b[38;5;241m=\u001b[39m\u001b[38;5;28;01mNone\u001b[39;00m, object_hook\u001b[38;5;241m=\u001b[39m\u001b[38;5;28;01mNone\u001b[39;00m, parse_float\u001b[38;5;241m=\u001b[39m\u001b[38;5;28;01mNone\u001b[39;00m,\n\u001b[1;32m    275\u001b[0m         parse_int\u001b[38;5;241m=\u001b[39m\u001b[38;5;28;01mNone\u001b[39;00m, parse_constant\u001b[38;5;241m=\u001b[39m\u001b[38;5;28;01mNone\u001b[39;00m, object_pairs_hook\u001b[38;5;241m=\u001b[39m\u001b[38;5;28;01mNone\u001b[39;00m, \u001b[38;5;241m*\u001b[39m\u001b[38;5;241m*\u001b[39mkw):\n\u001b[1;32m    276\u001b[0m \u001b[38;5;250m    \u001b[39m\u001b[38;5;124;03m\"\"\"Deserialize ``fp`` (a ``.read()``-supporting file-like object containing\u001b[39;00m\n\u001b[1;32m    277\u001b[0m \u001b[38;5;124;03m    a JSON document) to a Python object.\u001b[39;00m\n\u001b[1;32m    278\u001b[0m \n\u001b[0;32m   (...)\u001b[0m\n\u001b[1;32m    291\u001b[0m \u001b[38;5;124;03m    kwarg; otherwise ``JSONDecoder`` is used.\u001b[39;00m\n\u001b[1;32m    292\u001b[0m \u001b[38;5;124;03m    \"\"\"\u001b[39;00m\n\u001b[0;32m--> 293\u001b[0m     \u001b[38;5;28;01mreturn\u001b[39;00m \u001b[43mloads\u001b[49m\u001b[43m(\u001b[49m\u001b[43mfp\u001b[49m\u001b[38;5;241;43m.\u001b[39;49m\u001b[43mread\u001b[49m\u001b[43m(\u001b[49m\u001b[43m)\u001b[49m\u001b[43m,\u001b[49m\n\u001b[1;32m    294\u001b[0m \u001b[43m        \u001b[49m\u001b[38;5;28;43mcls\u001b[39;49m\u001b[38;5;241;43m=\u001b[39;49m\u001b[38;5;28;43mcls\u001b[39;49m\u001b[43m,\u001b[49m\u001b[43m \u001b[49m\u001b[43mobject_hook\u001b[49m\u001b[38;5;241;43m=\u001b[39;49m\u001b[43mobject_hook\u001b[49m\u001b[43m,\u001b[49m\n\u001b[1;32m    295\u001b[0m \u001b[43m        \u001b[49m\u001b[43mparse_float\u001b[49m\u001b[38;5;241;43m=\u001b[39;49m\u001b[43mparse_float\u001b[49m\u001b[43m,\u001b[49m\u001b[43m \u001b[49m\u001b[43mparse_int\u001b[49m\u001b[38;5;241;43m=\u001b[39;49m\u001b[43mparse_int\u001b[49m\u001b[43m,\u001b[49m\n\u001b[1;32m    296\u001b[0m \u001b[43m        \u001b[49m\u001b[43mparse_constant\u001b[49m\u001b[38;5;241;43m=\u001b[39;49m\u001b[43mparse_constant\u001b[49m\u001b[43m,\u001b[49m\u001b[43m \u001b[49m\u001b[43mobject_pairs_hook\u001b[49m\u001b[38;5;241;43m=\u001b[39;49m\u001b[43mobject_pairs_hook\u001b[49m\u001b[43m,\u001b[49m\u001b[43m \u001b[49m\u001b[38;5;241;43m*\u001b[39;49m\u001b[38;5;241;43m*\u001b[39;49m\u001b[43mkw\u001b[49m\u001b[43m)\u001b[49m\n",
      "File \u001b[0;32m/usr/lib/python3.10/json/__init__.py:346\u001b[0m, in \u001b[0;36mloads\u001b[0;34m(s, cls, object_hook, parse_float, parse_int, parse_constant, object_pairs_hook, **kw)\u001b[0m\n\u001b[1;32m    341\u001b[0m     s \u001b[38;5;241m=\u001b[39m s\u001b[38;5;241m.\u001b[39mdecode(detect_encoding(s), \u001b[38;5;124m'\u001b[39m\u001b[38;5;124msurrogatepass\u001b[39m\u001b[38;5;124m'\u001b[39m)\n\u001b[1;32m    343\u001b[0m \u001b[38;5;28;01mif\u001b[39;00m (\u001b[38;5;28mcls\u001b[39m \u001b[38;5;129;01mis\u001b[39;00m \u001b[38;5;28;01mNone\u001b[39;00m \u001b[38;5;129;01mand\u001b[39;00m object_hook \u001b[38;5;129;01mis\u001b[39;00m \u001b[38;5;28;01mNone\u001b[39;00m \u001b[38;5;129;01mand\u001b[39;00m\n\u001b[1;32m    344\u001b[0m         parse_int \u001b[38;5;129;01mis\u001b[39;00m \u001b[38;5;28;01mNone\u001b[39;00m \u001b[38;5;129;01mand\u001b[39;00m parse_float \u001b[38;5;129;01mis\u001b[39;00m \u001b[38;5;28;01mNone\u001b[39;00m \u001b[38;5;129;01mand\u001b[39;00m\n\u001b[1;32m    345\u001b[0m         parse_constant \u001b[38;5;129;01mis\u001b[39;00m \u001b[38;5;28;01mNone\u001b[39;00m \u001b[38;5;129;01mand\u001b[39;00m object_pairs_hook \u001b[38;5;129;01mis\u001b[39;00m \u001b[38;5;28;01mNone\u001b[39;00m \u001b[38;5;129;01mand\u001b[39;00m \u001b[38;5;129;01mnot\u001b[39;00m kw):\n\u001b[0;32m--> 346\u001b[0m     \u001b[38;5;28;01mreturn\u001b[39;00m \u001b[43m_default_decoder\u001b[49m\u001b[38;5;241;43m.\u001b[39;49m\u001b[43mdecode\u001b[49m\u001b[43m(\u001b[49m\u001b[43ms\u001b[49m\u001b[43m)\u001b[49m\n\u001b[1;32m    347\u001b[0m \u001b[38;5;28;01mif\u001b[39;00m \u001b[38;5;28mcls\u001b[39m \u001b[38;5;129;01mis\u001b[39;00m \u001b[38;5;28;01mNone\u001b[39;00m:\n\u001b[1;32m    348\u001b[0m     \u001b[38;5;28mcls\u001b[39m \u001b[38;5;241m=\u001b[39m JSONDecoder\n",
      "File \u001b[0;32m/usr/lib/python3.10/json/decoder.py:337\u001b[0m, in \u001b[0;36mJSONDecoder.decode\u001b[0;34m(self, s, _w)\u001b[0m\n\u001b[1;32m    332\u001b[0m \u001b[38;5;28;01mdef\u001b[39;00m \u001b[38;5;21mdecode\u001b[39m(\u001b[38;5;28mself\u001b[39m, s, _w\u001b[38;5;241m=\u001b[39mWHITESPACE\u001b[38;5;241m.\u001b[39mmatch):\n\u001b[1;32m    333\u001b[0m \u001b[38;5;250m    \u001b[39m\u001b[38;5;124;03m\"\"\"Return the Python representation of ``s`` (a ``str`` instance\u001b[39;00m\n\u001b[1;32m    334\u001b[0m \u001b[38;5;124;03m    containing a JSON document).\u001b[39;00m\n\u001b[1;32m    335\u001b[0m \n\u001b[1;32m    336\u001b[0m \u001b[38;5;124;03m    \"\"\"\u001b[39;00m\n\u001b[0;32m--> 337\u001b[0m     obj, end \u001b[38;5;241m=\u001b[39m \u001b[38;5;28;43mself\u001b[39;49m\u001b[38;5;241;43m.\u001b[39;49m\u001b[43mraw_decode\u001b[49m\u001b[43m(\u001b[49m\u001b[43ms\u001b[49m\u001b[43m,\u001b[49m\u001b[43m \u001b[49m\u001b[43midx\u001b[49m\u001b[38;5;241;43m=\u001b[39;49m\u001b[43m_w\u001b[49m\u001b[43m(\u001b[49m\u001b[43ms\u001b[49m\u001b[43m,\u001b[49m\u001b[43m \u001b[49m\u001b[38;5;241;43m0\u001b[39;49m\u001b[43m)\u001b[49m\u001b[38;5;241;43m.\u001b[39;49m\u001b[43mend\u001b[49m\u001b[43m(\u001b[49m\u001b[43m)\u001b[49m\u001b[43m)\u001b[49m\n\u001b[1;32m    338\u001b[0m     end \u001b[38;5;241m=\u001b[39m _w(s, end)\u001b[38;5;241m.\u001b[39mend()\n\u001b[1;32m    339\u001b[0m     \u001b[38;5;28;01mif\u001b[39;00m end \u001b[38;5;241m!=\u001b[39m \u001b[38;5;28mlen\u001b[39m(s):\n",
      "File \u001b[0;32m/usr/lib/python3.10/json/decoder.py:353\u001b[0m, in \u001b[0;36mJSONDecoder.raw_decode\u001b[0;34m(self, s, idx)\u001b[0m\n\u001b[1;32m    344\u001b[0m \u001b[38;5;250m\u001b[39m\u001b[38;5;124;03m\"\"\"Decode a JSON document from ``s`` (a ``str`` beginning with\u001b[39;00m\n\u001b[1;32m    345\u001b[0m \u001b[38;5;124;03ma JSON document) and return a 2-tuple of the Python\u001b[39;00m\n\u001b[1;32m    346\u001b[0m \u001b[38;5;124;03mrepresentation and the index in ``s`` where the document ended.\u001b[39;00m\n\u001b[0;32m   (...)\u001b[0m\n\u001b[1;32m    350\u001b[0m \n\u001b[1;32m    351\u001b[0m \u001b[38;5;124;03m\"\"\"\u001b[39;00m\n\u001b[1;32m    352\u001b[0m \u001b[38;5;28;01mtry\u001b[39;00m:\n\u001b[0;32m--> 353\u001b[0m     obj, end \u001b[38;5;241m=\u001b[39m \u001b[38;5;28;43mself\u001b[39;49m\u001b[38;5;241;43m.\u001b[39;49m\u001b[43mscan_once\u001b[49m\u001b[43m(\u001b[49m\u001b[43ms\u001b[49m\u001b[43m,\u001b[49m\u001b[43m \u001b[49m\u001b[43midx\u001b[49m\u001b[43m)\u001b[49m\n\u001b[1;32m    354\u001b[0m \u001b[38;5;28;01mexcept\u001b[39;00m \u001b[38;5;167;01mStopIteration\u001b[39;00m \u001b[38;5;28;01mas\u001b[39;00m err:\n\u001b[1;32m    355\u001b[0m     \u001b[38;5;28;01mraise\u001b[39;00m JSONDecodeError(\u001b[38;5;124m\"\u001b[39m\u001b[38;5;124mExpecting value\u001b[39m\u001b[38;5;124m\"\u001b[39m, s, err\u001b[38;5;241m.\u001b[39mvalue) \u001b[38;5;28;01mfrom\u001b[39;00m \u001b[38;5;28;01mNone\u001b[39;00m\n",
      "\u001b[0;31mJSONDecodeError\u001b[0m: Expecting property name enclosed in double quotes: line 1 column 270273 (char 270272)"
     ]
    }
   ],
   "source": []
  },
  {
   "cell_type": "code",
   "execution_count": 63,
   "metadata": {},
   "outputs": [
    {
     "ename": "KeyboardInterrupt",
     "evalue": "",
     "output_type": "error",
     "traceback": [
      "\u001b[0;31m---------------------------------------------------------------------------\u001b[0m",
      "\u001b[0;31mKeyboardInterrupt\u001b[0m                         Traceback (most recent call last)",
      "Cell \u001b[0;32mIn[63], line 13\u001b[0m\n\u001b[1;32m     10\u001b[0m deck \u001b[38;5;241m=\u001b[39m deck_manager\u001b[38;5;241m.\u001b[39mcreate_deck()\n\u001b[1;32m     12\u001b[0m \u001b[38;5;28;01mfor\u001b[39;00m card \u001b[38;5;129;01min\u001b[39;00m deck_manager\u001b[38;5;241m.\u001b[39mcards:\n\u001b[0;32m---> 13\u001b[0m     note \u001b[38;5;241m=\u001b[39m \u001b[43mdeck_manager\u001b[49m\u001b[38;5;241;43m.\u001b[39;49m\u001b[43madd_card\u001b[49m\u001b[43m(\u001b[49m\n\u001b[1;32m     14\u001b[0m \u001b[43m        \u001b[49m\u001b[43mfront\u001b[49m\u001b[38;5;241;43m=\u001b[39;49m\u001b[43mcard\u001b[49m\u001b[43m[\u001b[49m\u001b[38;5;124;43m\"\u001b[39;49m\u001b[38;5;124;43mfront\u001b[39;49m\u001b[38;5;124;43m\"\u001b[39;49m\u001b[43m]\u001b[49m\u001b[43m,\u001b[49m\n\u001b[1;32m     15\u001b[0m \u001b[43m        \u001b[49m\u001b[43mback\u001b[49m\u001b[38;5;241;43m=\u001b[39;49m\u001b[43mcard\u001b[49m\u001b[43m[\u001b[49m\u001b[38;5;124;43m\"\u001b[39;49m\u001b[38;5;124;43mback\u001b[39;49m\u001b[38;5;124;43m\"\u001b[39;49m\u001b[43m]\u001b[49m\u001b[43m,\u001b[49m\n\u001b[1;32m     16\u001b[0m \u001b[43m        \u001b[49m\u001b[43mfront_audio_path\u001b[49m\u001b[38;5;241;43m=\u001b[39;49m\u001b[43mcard\u001b[49m\u001b[43m[\u001b[49m\u001b[38;5;124;43m\"\u001b[39;49m\u001b[38;5;124;43mfront_audio\u001b[39;49m\u001b[38;5;124;43m\"\u001b[39;49m\u001b[43m]\u001b[49m\u001b[43m,\u001b[49m\n\u001b[1;32m     17\u001b[0m \u001b[43m        \u001b[49m\u001b[43mback_audio_path\u001b[49m\u001b[38;5;241;43m=\u001b[39;49m\u001b[43mcard\u001b[49m\u001b[43m[\u001b[49m\u001b[38;5;124;43m\"\u001b[39;49m\u001b[38;5;124;43mback_audio\u001b[39;49m\u001b[38;5;124;43m\"\u001b[39;49m\u001b[43m]\u001b[49m\n\u001b[1;32m     18\u001b[0m \u001b[43m    \u001b[49m\u001b[43m)\u001b[49m\n\u001b[1;32m     19\u001b[0m     deck\u001b[38;5;241m.\u001b[39madd_note(note)\n\u001b[1;32m     21\u001b[0m deck_manager\u001b[38;5;241m.\u001b[39msave_deck(deck, [note \u001b[38;5;28;01mfor\u001b[39;00m note \u001b[38;5;129;01min\u001b[39;00m deck\u001b[38;5;241m.\u001b[39mnotes])\n",
      "Cell \u001b[0;32mIn[49], line 45\u001b[0m, in \u001b[0;36mAnkiDeckManager.add_card\u001b[0;34m(self, front, back, front_audio_path, back_audio_path)\u001b[0m\n\u001b[1;32m     35\u001b[0m note \u001b[38;5;241m=\u001b[39m genanki\u001b[38;5;241m.\u001b[39mNote(\n\u001b[1;32m     36\u001b[0m     model\u001b[38;5;241m=\u001b[39m\u001b[38;5;28mself\u001b[39m\u001b[38;5;241m.\u001b[39mcreate_model(),\n\u001b[1;32m     37\u001b[0m     fields\u001b[38;5;241m=\u001b[39m[front, back, front_audio_path, back_audio_path],\n\u001b[1;32m     38\u001b[0m )\n\u001b[1;32m     39\u001b[0m \u001b[38;5;28mself\u001b[39m\u001b[38;5;241m.\u001b[39mcards\u001b[38;5;241m.\u001b[39mappend({\n\u001b[1;32m     40\u001b[0m     \u001b[38;5;124m\"\u001b[39m\u001b[38;5;124mfront\u001b[39m\u001b[38;5;124m\"\u001b[39m: front,\n\u001b[1;32m     41\u001b[0m     \u001b[38;5;124m\"\u001b[39m\u001b[38;5;124mback\u001b[39m\u001b[38;5;124m\"\u001b[39m: back,\n\u001b[1;32m     42\u001b[0m     \u001b[38;5;124m\"\u001b[39m\u001b[38;5;124mfront_audio\u001b[39m\u001b[38;5;124m\"\u001b[39m: front_audio_path,\n\u001b[1;32m     43\u001b[0m     \u001b[38;5;124m\"\u001b[39m\u001b[38;5;124mback_audio\u001b[39m\u001b[38;5;124m\"\u001b[39m: back_audio_path\n\u001b[1;32m     44\u001b[0m })\n\u001b[0;32m---> 45\u001b[0m \u001b[38;5;28;43mself\u001b[39;49m\u001b[38;5;241;43m.\u001b[39;49m\u001b[43msave_cards_to_db\u001b[49m\u001b[43m(\u001b[49m\u001b[43m)\u001b[49m\n\u001b[1;32m     46\u001b[0m \u001b[38;5;28;01mreturn\u001b[39;00m note\n",
      "Cell \u001b[0;32mIn[49], line 61\u001b[0m, in \u001b[0;36mAnkiDeckManager.save_cards_to_db\u001b[0;34m(self)\u001b[0m\n\u001b[1;32m     60\u001b[0m \u001b[38;5;28;01mdef\u001b[39;00m \u001b[38;5;21msave_cards_to_db\u001b[39m(\u001b[38;5;28mself\u001b[39m):\n\u001b[0;32m---> 61\u001b[0m     \u001b[38;5;28;01mwith\u001b[39;00m \u001b[38;5;28;43mopen\u001b[39;49m\u001b[43m(\u001b[49m\u001b[38;5;28;43mself\u001b[39;49m\u001b[38;5;241;43m.\u001b[39;49m\u001b[43mdb_path\u001b[49m\u001b[43m,\u001b[49m\u001b[43m \u001b[49m\u001b[38;5;124;43m\"\u001b[39;49m\u001b[38;5;124;43mw\u001b[39;49m\u001b[38;5;124;43m\"\u001b[39;49m\u001b[43m)\u001b[49m \u001b[38;5;28;01mas\u001b[39;00m f:\n\u001b[1;32m     62\u001b[0m         json\u001b[38;5;241m.\u001b[39mdump(\u001b[38;5;28mself\u001b[39m\u001b[38;5;241m.\u001b[39mcards, f)\n",
      "File \u001b[0;32m/mnt/d/OneDrive/Projects/anki-words-builder/.venv/lib/python3.10/site-packages/IPython/core/interactiveshell.py:324\u001b[0m, in \u001b[0;36m_modified_open\u001b[0;34m(file, *args, **kwargs)\u001b[0m\n\u001b[1;32m    317\u001b[0m \u001b[38;5;28;01mif\u001b[39;00m file \u001b[38;5;129;01min\u001b[39;00m {\u001b[38;5;241m0\u001b[39m, \u001b[38;5;241m1\u001b[39m, \u001b[38;5;241m2\u001b[39m}:\n\u001b[1;32m    318\u001b[0m     \u001b[38;5;28;01mraise\u001b[39;00m \u001b[38;5;167;01mValueError\u001b[39;00m(\n\u001b[1;32m    319\u001b[0m         \u001b[38;5;124mf\u001b[39m\u001b[38;5;124m\"\u001b[39m\u001b[38;5;124mIPython won\u001b[39m\u001b[38;5;124m'\u001b[39m\u001b[38;5;124mt let you open fd=\u001b[39m\u001b[38;5;132;01m{\u001b[39;00mfile\u001b[38;5;132;01m}\u001b[39;00m\u001b[38;5;124m by default \u001b[39m\u001b[38;5;124m\"\u001b[39m\n\u001b[1;32m    320\u001b[0m         \u001b[38;5;124m\"\u001b[39m\u001b[38;5;124mas it is likely to crash IPython. If you know what you are doing, \u001b[39m\u001b[38;5;124m\"\u001b[39m\n\u001b[1;32m    321\u001b[0m         \u001b[38;5;124m\"\u001b[39m\u001b[38;5;124myou can use builtins\u001b[39m\u001b[38;5;124m'\u001b[39m\u001b[38;5;124m open.\u001b[39m\u001b[38;5;124m\"\u001b[39m\n\u001b[1;32m    322\u001b[0m     )\n\u001b[0;32m--> 324\u001b[0m \u001b[38;5;28;01mreturn\u001b[39;00m \u001b[43mio_open\u001b[49m\u001b[43m(\u001b[49m\u001b[43mfile\u001b[49m\u001b[43m,\u001b[49m\u001b[43m \u001b[49m\u001b[38;5;241;43m*\u001b[39;49m\u001b[43margs\u001b[49m\u001b[43m,\u001b[49m\u001b[43m \u001b[49m\u001b[38;5;241;43m*\u001b[39;49m\u001b[38;5;241;43m*\u001b[39;49m\u001b[43mkwargs\u001b[49m\u001b[43m)\u001b[49m\n",
      "File \u001b[0;32m/usr/lib/python3.10/codecs.py:186\u001b[0m, in \u001b[0;36mIncrementalEncoder.__init__\u001b[0;34m(self, errors)\u001b[0m\n\u001b[1;32m    180\u001b[0m \u001b[38;5;28;01mclass\u001b[39;00m \u001b[38;5;21;01mIncrementalEncoder\u001b[39;00m(\u001b[38;5;28mobject\u001b[39m):\n\u001b[1;32m    181\u001b[0m \u001b[38;5;250m    \u001b[39m\u001b[38;5;124;03m\"\"\"\u001b[39;00m\n\u001b[1;32m    182\u001b[0m \u001b[38;5;124;03m    An IncrementalEncoder encodes an input in multiple steps. The input can\u001b[39;00m\n\u001b[1;32m    183\u001b[0m \u001b[38;5;124;03m    be passed piece by piece to the encode() method. The IncrementalEncoder\u001b[39;00m\n\u001b[1;32m    184\u001b[0m \u001b[38;5;124;03m    remembers the state of the encoding process between calls to encode().\u001b[39;00m\n\u001b[1;32m    185\u001b[0m \u001b[38;5;124;03m    \"\"\"\u001b[39;00m\n\u001b[0;32m--> 186\u001b[0m     \u001b[38;5;28;01mdef\u001b[39;00m \u001b[38;5;21m__init__\u001b[39m(\u001b[38;5;28mself\u001b[39m, errors\u001b[38;5;241m=\u001b[39m\u001b[38;5;124m'\u001b[39m\u001b[38;5;124mstrict\u001b[39m\u001b[38;5;124m'\u001b[39m):\n\u001b[1;32m    187\u001b[0m \u001b[38;5;250m        \u001b[39m\u001b[38;5;124;03m\"\"\"\u001b[39;00m\n\u001b[1;32m    188\u001b[0m \u001b[38;5;124;03m        Creates an IncrementalEncoder instance.\u001b[39;00m\n\u001b[1;32m    189\u001b[0m \n\u001b[0;32m   (...)\u001b[0m\n\u001b[1;32m    192\u001b[0m \u001b[38;5;124;03m        for a list of possible values.\u001b[39;00m\n\u001b[1;32m    193\u001b[0m \u001b[38;5;124;03m        \"\"\"\u001b[39;00m\n\u001b[1;32m    194\u001b[0m         \u001b[38;5;28mself\u001b[39m\u001b[38;5;241m.\u001b[39merrors \u001b[38;5;241m=\u001b[39m errors\n",
      "\u001b[0;31mKeyboardInterrupt\u001b[0m: "
     ]
    }
   ],
   "source": [
    "# Usage example\n",
    "deck_manager = AnkiDeckManager(\n",
    "    deck_name=\"My Language Learning Deck\",\n",
    "    model_id=12345678,\n",
    "    model_name=\"Language Learning Model\",\n",
    "    file_path=\"/mnt/d/OneDrive/Projects/anki-words-builder/file.apkg\",\n",
    "    db_path=\"/mnt/d/OneDrive/Projects/anki-words-builder/cards.json\"\n",
    ")\n",
    "\n",
    "deck = deck_manager.create_deck()\n",
    "\n",
    "for card in deck_manager.cards:\n",
    "    note = deck_manager.add_card(\n",
    "        front=card[\"front\"],\n",
    "        back=card[\"back\"],\n",
    "        front_audio_path=card[\"front_audio\"],\n",
    "        back_audio_path=card[\"back_audio\"]\n",
    "    )\n",
    "    deck.add_note(note)\n",
    "\n",
    "deck_manager.save_deck(deck, [note for note in deck.notes])"
   ]
  },
  {
   "cell_type": "code",
   "execution_count": 61,
   "metadata": {},
   "outputs": [
    {
     "data": {
      "text/plain": [
       "[]"
      ]
     },
     "execution_count": 61,
     "metadata": {},
     "output_type": "execute_result"
    }
   ],
   "source": [
    "deck_manager.cards"
   ]
  }
 ],
 "metadata": {
  "kernelspec": {
   "display_name": ".venv",
   "language": "python",
   "name": "python3"
  },
  "language_info": {
   "codemirror_mode": {
    "name": "ipython",
    "version": 3
   },
   "file_extension": ".py",
   "mimetype": "text/x-python",
   "name": "python",
   "nbconvert_exporter": "python",
   "pygments_lexer": "ipython3",
   "version": "3.10.12"
  }
 },
 "nbformat": 4,
 "nbformat_minor": 2
}
