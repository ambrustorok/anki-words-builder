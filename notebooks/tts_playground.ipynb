{
 "cells": [
  {
   "cell_type": "markdown",
   "metadata": {},
   "source": [
    "# OpenAI TTS"
   ]
  },
  {
   "cell_type": "code",
   "execution_count": 1,
   "metadata": {},
   "outputs": [],
   "source": [
    "import gradio as gr\n",
    "import os\n",
    "import tempfile\n",
    "import numpy as np\n",
    "import soundfile as sf\n",
    "from dotenv import load_dotenv\n",
    "from openai import OpenAI\n",
    "import random\n",
    "\n",
    "load_dotenv()\n",
    "client = OpenAI()"
   ]
  },
  {
   "cell_type": "code",
   "execution_count": 6,
   "metadata": {},
   "outputs": [],
   "source": [
    "def add_silence(input_file, output_file, silence_duration_sec=0.5):\n",
    "    data, samplerate = sf.read(input_file)\n",
    "    silence_samples = int(silence_duration_sec * samplerate)\n",
    "    silence = np.zeros((silence_samples, data.shape[1])) if data.ndim > 1 else np.zeros(silence_samples)\n",
    "    new_data = np.concatenate((silence, data), axis=0)\n",
    "    sf.write(output_file, new_data, samplerate)\n"
   ]
  },
  {
   "cell_type": "code",
   "execution_count": 2,
   "metadata": {},
   "outputs": [],
   "source": [
    "def remove_audio_start(input_file, output_file, duration_sec):\n",
    "    # Read the audio file\n",
    "    data, samplerate = sf.read(input_file)\n",
    "\n",
    "    # Calculate the number of samples to remove\n",
    "    samples_to_remove = int(duration_sec * samplerate)\n",
    "\n",
    "    # Remove the first x seconds\n",
    "    new_data = data[samples_to_remove:]\n",
    "\n",
    "    # Write the modified audio to the output file\n",
    "    sf.write(output_file, new_data, samplerate)\n",
    "\n"
   ]
  },
  {
   "cell_type": "code",
   "execution_count": 9,
   "metadata": {},
   "outputs": [],
   "source": [
    "input_file = \"/mnt/d/OneDrive/Projects/anki-words-builder/notebooks/audio_at bo bor.mp3\"\n",
    "output_file = \"/mnt/d/OneDrive/Projects/anki-words-builder/notebooks/audio_at bo bor_shorter.mp3\"\n",
    "duration_sec = 1.07\n",
    "remove_audio_start(input_file, output_file, duration_sec)"
   ]
  },
  {
   "cell_type": "code",
   "execution_count": 17,
   "metadata": {},
   "outputs": [],
   "source": [
    "def get_audio(text, lang=\"da\"):\n",
    "    voices = [\"alloy\", \"echo\", \"fable\", \"onyx\", \"nova\", \"shimmer\"]\n",
    "    selected_voice = random.choice(voices)\n",
    "    prompt = f\"Læs dette på dansk: '{text}'\"\n",
    "\n",
    "    with tempfile.NamedTemporaryFile(delete=False, suffix=\".mp3\") as temp_audio_file:\n",
    "        temp_audio_path = temp_audio_file.name\n",
    "        with client.audio.speech.with_streaming_response.create(\n",
    "            model=\"tts-1\",\n",
    "            voice=selected_voice,\n",
    "            input=prompt,\n",
    "        ) as response:\n",
    "            response.stream_to_file(temp_audio_path)\n",
    "\n",
    "    output_file_path = f\"audio_{text}.mp3\"\n",
    "    add_silence(temp_audio_path, output_file_path, silence_duration_sec=0)\n",
    "    os.remove(temp_audio_path)\n",
    "    return output_file_path"
   ]
  },
  {
   "cell_type": "code",
   "execution_count": 18,
   "metadata": {},
   "outputs": [
    {
     "data": {
      "text/plain": [
       "'audio_kæreste.mp3'"
      ]
     },
     "execution_count": 18,
     "metadata": {},
     "output_type": "execute_result"
    }
   ],
   "source": [
    "# Add a danish sentence to be read out loud\n",
    "get_audio(\"Hej, jeg hedder Rasmus\")\n",
    "get_audio(\"kæreste\")"
   ]
  },
  {
   "cell_type": "markdown",
   "metadata": {},
   "source": [
    "# Google"
   ]
  },
  {
   "cell_type": "code",
   "execution_count": 1,
   "metadata": {},
   "outputs": [
    {
     "name": "stdout",
     "output_type": "stream",
     "text": [
      "https://translate.google.com/translate_tts?ie=UTF-8&tl=da&client=tw-ob&q=God+morgen%2C+hvordan+har+du+det%3F\n"
     ]
    }
   ],
   "source": [
    "import urllib.parse\n",
    "\n",
    "def construct_tts_link(text, lang_code):\n",
    "    base_url = \"https://translate.google.com/translate_tts\"\n",
    "    params = {\n",
    "        \"ie\": \"UTF-8\",\n",
    "        \"tl\": lang_code,\n",
    "        \"client\": \"tw-ob\",\n",
    "        \"q\": text\n",
    "    }\n",
    "    \n",
    "    # Encode the query parameters\n",
    "    query_string = urllib.parse.urlencode(params)\n",
    "    \n",
    "    # Construct the full URL\n",
    "    tts_url = f\"{base_url}?{query_string}\"\n",
    "    \n",
    "    return tts_url\n",
    "\n",
    "# Example usage for Danish (language code 'da'):\n",
    "text = \"God morgen, hvordan har du det?\"\n",
    "lang_code = \"da\"\n",
    "\n",
    "tts_link = construct_tts_link(text, lang_code)\n",
    "print(tts_link)\n"
   ]
  },
  {
   "cell_type": "code",
   "execution_count": 2,
   "metadata": {},
   "outputs": [
    {
     "name": "stdout",
     "output_type": "stream",
     "text": [
      "MP3 saved to greeting.mp3\n"
     ]
    }
   ],
   "source": [
    "import requests\n",
    "\n",
    "def save_tts_to_file(text, lang_code, filename):\n",
    "    # Construct the TTS link\n",
    "    tts_url = construct_tts_link(text, lang_code)\n",
    "    \n",
    "    # Make a request to get the audio content\n",
    "    response = requests.get(tts_url)\n",
    "    \n",
    "    # Check if the request was successful\n",
    "    if response.status_code == 200:\n",
    "        # Write the audio content to a file\n",
    "        with open(filename, 'wb') as file:\n",
    "            file.write(response.content)\n",
    "        print(f\"MP3 saved to {filename}\")\n",
    "    else:\n",
    "        print(f\"Failed to retrieve audio: {response.status_code}\")\n",
    "\n",
    "# Example usage for Danish\n",
    "text = \"God morgen, hvordan har du det?\"\n",
    "lang_code = \"da\"\n",
    "filename = \"greeting.mp3\"\n",
    "\n",
    "save_tts_to_file(text, lang_code, filename)\n"
   ]
  }
 ],
 "metadata": {
  "kernelspec": {
   "display_name": ".venv",
   "language": "python",
   "name": "python3"
  },
  "language_info": {
   "codemirror_mode": {
    "name": "ipython",
    "version": 3
   },
   "file_extension": ".py",
   "mimetype": "text/x-python",
   "name": "python",
   "nbconvert_exporter": "python",
   "pygments_lexer": "ipython3",
   "version": "3.10.12"
  }
 },
 "nbformat": 4,
 "nbformat_minor": 2
}
