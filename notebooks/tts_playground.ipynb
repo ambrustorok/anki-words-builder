{
 "cells": [
  {
   "cell_type": "code",
   "execution_count": 1,
   "metadata": {},
   "outputs": [
    {
     "name": "stdout",
     "output_type": "stream",
     "text": [
      "https://translate.google.com/translate_tts?ie=UTF-8&tl=da&client=tw-ob&q=God+morgen%2C+hvordan+har+du+det%3F\n"
     ]
    }
   ],
   "source": [
    "import urllib.parse\n",
    "\n",
    "def construct_tts_link(text, lang_code):\n",
    "    base_url = \"https://translate.google.com/translate_tts\"\n",
    "    params = {\n",
    "        \"ie\": \"UTF-8\",\n",
    "        \"tl\": lang_code,\n",
    "        \"client\": \"tw-ob\",\n",
    "        \"q\": text\n",
    "    }\n",
    "    \n",
    "    # Encode the query parameters\n",
    "    query_string = urllib.parse.urlencode(params)\n",
    "    \n",
    "    # Construct the full URL\n",
    "    tts_url = f\"{base_url}?{query_string}\"\n",
    "    \n",
    "    return tts_url\n",
    "\n",
    "# Example usage for Danish (language code 'da'):\n",
    "text = \"God morgen, hvordan har du det?\"\n",
    "lang_code = \"da\"\n",
    "\n",
    "tts_link = construct_tts_link(text, lang_code)\n",
    "print(tts_link)\n"
   ]
  },
  {
   "cell_type": "code",
   "execution_count": 2,
   "metadata": {},
   "outputs": [
    {
     "name": "stdout",
     "output_type": "stream",
     "text": [
      "MP3 saved to greeting.mp3\n"
     ]
    }
   ],
   "source": [
    "import requests\n",
    "\n",
    "def save_tts_to_file(text, lang_code, filename):\n",
    "    # Construct the TTS link\n",
    "    tts_url = construct_tts_link(text, lang_code)\n",
    "    \n",
    "    # Make a request to get the audio content\n",
    "    response = requests.get(tts_url)\n",
    "    \n",
    "    # Check if the request was successful\n",
    "    if response.status_code == 200:\n",
    "        # Write the audio content to a file\n",
    "        with open(filename, 'wb') as file:\n",
    "            file.write(response.content)\n",
    "        print(f\"MP3 saved to {filename}\")\n",
    "    else:\n",
    "        print(f\"Failed to retrieve audio: {response.status_code}\")\n",
    "\n",
    "# Example usage for Danish\n",
    "text = \"God morgen, hvordan har du det?\"\n",
    "lang_code = \"da\"\n",
    "filename = \"greeting.mp3\"\n",
    "\n",
    "save_tts_to_file(text, lang_code, filename)\n"
   ]
  }
 ],
 "metadata": {
  "kernelspec": {
   "display_name": ".venv",
   "language": "python",
   "name": "python3"
  },
  "language_info": {
   "codemirror_mode": {
    "name": "ipython",
    "version": 3
   },
   "file_extension": ".py",
   "mimetype": "text/x-python",
   "name": "python",
   "nbconvert_exporter": "python",
   "pygments_lexer": "ipython3",
   "version": "3.10.12"
  }
 },
 "nbformat": 4,
 "nbformat_minor": 2
}
