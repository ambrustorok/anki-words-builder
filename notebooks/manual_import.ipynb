{
 "cells": [
  {
   "cell_type": "code",
   "execution_count": 1,
   "metadata": {},
   "outputs": [],
   "source": [
    "import sys\n",
    "import os\n",
    "\n",
    "# Add the src folder to the system path\n",
    "sys.path.append(os.path.abspath(\"../src\"))"
   ]
  },
  {
   "cell_type": "code",
   "execution_count": 2,
   "metadata": {},
   "outputs": [],
   "source": [
    "import os\n",
    "from tqdm.notebook import tqdm\n",
    "from openai import OpenAI\n",
    "from dotenv import load_dotenv\n",
    "\n",
    "from chatgpt_tools.prompts import translate_word, generate_sentence, dictionarize_word\n",
    "from chatgpt_tools.tts import get_audio\n",
    "from anki_tools.anki_deck_creator import AnkiDeckManager\n",
    "\n",
    "load_dotenv()\n",
    "client = OpenAI()\n",
    "\n",
    "BASE_DIR = \"/mnt/d/OneDrive/Projects/data/danish\"\n",
    "AUDIO_DIR = os.path.join(BASE_DIR, \"anki_audio\")\n",
    "DB_PATH = os.path.join(BASE_DIR, \"cards.db\")\n",
    "\n",
    "os.makedirs(AUDIO_DIR, exist_ok=True)\n",
    "\n",
    "def process_word_batch(word, language=\"Danish\"):\n",
    "    \"\"\"\n",
    "    Process a single word the same way as the Gradio interface would.\n",
    "    \"\"\"\n",
    "    translation = translate_word(client, word, source_lang=language)\n",
    "    sentence = generate_sentence(client, word, language)\n",
    "    dictionary_form = dictionarize_word(client, word, language)\n",
    "    audio_path = get_audio(client, word, language, output_dir=AUDIO_DIR)\n",
    "\n",
    "    return word, translation, sentence, audio_path, dictionary_form\n",
    "\n",
    "def process_word_list(word_list, language=\"Danish\"):\n",
    "    \"\"\"\n",
    "    Process a list of words, add them to the database, and export the deck.\n",
    "    \"\"\"\n",
    "    deck_manager = AnkiDeckManager(\n",
    "        deck_name=\"Danish Learning Deck\",\n",
    "        model_id=1607392319,\n",
    "        model_name=\"Danish with Audio\",\n",
    "        db_path=DB_PATH\n",
    "    )\n",
    "\n",
    "    for word in tqdm(word_list, desc=\"Processing words\"):\n",
    "        danish_word, translation, sentence, audio_path, dictionary_form = process_word_batch(word, language)\n",
    "        \n",
    "        deck_manager.add_card(\n",
    "            front=f\"<div>{danish_word}</div><div>{sentence}</div>\",\n",
    "            back=f\"<div>{translation}</div><div>{dictionary_form}</div>\",\n",
    "            front_audio_path=audio_path,\n",
    "            back_audio_path=\"\",\n",
    "        )\n",
    "        deck_manager.add_card(\n",
    "            front=f\"<div>{translation}</div>\",\n",
    "            back=f\"<div>{danish_word}</div><div>{sentence}</div><div>{dictionary_form}</div>\",\n",
    "            front_audio_path=\"\",\n",
    "            back_audio_path=audio_path,\n",
    "        )\n",
    "\n",
    "    # Export the deck\n",
    "    output_path = os.path.join(BASE_DIR, \"danish_deck.apkg\")\n",
    "    deck_manager.export_to_apkg(output_path)\n",
    "    print(f\"Deck exported successfully to {output_path}\")"
   ]
  },
  {
   "cell_type": "code",
   "execution_count": 3,
   "metadata": {},
   "outputs": [
    {
     "name": "stdout",
     "output_type": "stream",
     "text": [
      "Database file /mnt/d/OneDrive/Projects/data/danish/cards.db does not exist. Creating...\n"
     ]
    },
    {
     "data": {
      "application/vnd.jupyter.widget-view+json": {
       "model_id": "0ff999f6811b46528547d73780ed860e",
       "version_major": 2,
       "version_minor": 0
      },
      "text/plain": [
       "Processing words:   0%|          | 0/37 [00:00<?, ?it/s]"
      ]
     },
     "metadata": {},
     "output_type": "display_data"
    }
   ],
   "source": [
    "danish_words = [\n",
    "    \"en enke\",\n",
    "    \"et billede\",\n",
    "    \"et ægteskab\",\n",
    "    \"Det tror jeg.\",\n",
    "    \"Det håber jeg.\",\n",
    "    \"et menneske\",\n",
    "    \"at tage afsted\",\n",
    "    \"jeg tager aldrig brusebad\",\n",
    "    \"jeg er tit sulten...\",\n",
    "    \"at gøre rent\",\n",
    "    \"at være er var været\",\n",
    "    \"at have har havde haft\",\n",
    "    \"Han bor sammen med sin kone.\",\n",
    "    \"Han bor sammen med hans kone.\",\n",
    "    \"Hendes mand kommer i Budapest.\",\n",
    "    \"et barn børn\",\n",
    "    \"søskende\",\n",
    "    \"bedstefar, bedstemor, bedsteforældre\",\n",
    "    \"Lejlighed\",\n",
    "    \"så tit\",\n",
    "    \"at være gift - skilt\",\n",
    "    \"at læse\",\n",
    "    \"at lære\",\n",
    "    \"at studere\",\n",
    "    \"at savne\",\n",
    "    \"at tænke på\",\n",
    "    \"en nationalitet\",\n",
    "    \"et modersmal\",\n",
    "    \"at være er\",\n",
    "    \"at bo bor\",\n",
    "    \"en sal\",\n",
    "    \"til højre\",\n",
    "    \"til venstre\",\n",
    "    \"et telefonnumer\",\n",
    "    \"at tro - jeg tror\",\n",
    "    \"at synes - jeg synes\",\n",
    "    \"at slappe af\"\n",
    "]\n",
    "\n",
    "process_word_list(danish_words)"
   ]
  }
 ],
 "metadata": {
  "kernelspec": {
   "display_name": ".venv",
   "language": "python",
   "name": "python3"
  },
  "language_info": {
   "codemirror_mode": {
    "name": "ipython",
    "version": 3
   },
   "file_extension": ".py",
   "mimetype": "text/x-python",
   "name": "python",
   "nbconvert_exporter": "python",
   "pygments_lexer": "ipython3",
   "version": "3.10.12"
  }
 },
 "nbformat": 4,
 "nbformat_minor": 2
}
