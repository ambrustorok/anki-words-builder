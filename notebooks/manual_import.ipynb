{
 "cells": [
  {
   "cell_type": "code",
   "execution_count": 3,
   "metadata": {},
   "outputs": [],
   "source": [
    "import sys\n",
    "import os\n",
    "\n",
    "# Add the src folder to the system path\n",
    "sys.path.append(os.path.abspath(\"../src\"))"
   ]
  },
  {
   "cell_type": "code",
   "execution_count": 4,
   "metadata": {},
   "outputs": [],
   "source": [
    "from dotenv import load_dotenv\n",
    "from openai import OpenAI\n",
    "from chatgpt_tools.prompts import translate_word, generate_sentence, dictionarize_word\n",
    "from chatgpt_tools.tts import get_audio\n",
    "from anki_tools.anki_deck_creator import insert_or_create_anki_deck\n",
    "\n",
    "load_dotenv()\n",
    "client = OpenAI()"
   ]
  },
  {
   "cell_type": "code",
   "execution_count": 5,
   "metadata": {},
   "outputs": [],
   "source": [
    "def save_into_database(word, translation, sentence, audio_path, dictionary_form):\n",
    "    print(f\"Saving to database: {word}, {translation}, {sentence}, {audio_path}, {dictionary_form}\")\n",
    "    return \"Data saved successfully\"\n",
    "\n",
    "def process_word(danish_word, custom_sentence=\"\", language=\"Danish\"):\n",
    "    translation = translate_word(client, danish_word, source_lang=language)\n",
    "    sentence = custom_sentence if custom_sentence else generate_sentence(client, danish_word, language)\n",
    "    dictionary_form = dictionarize_word(client, danish_word, language)\n",
    "    audio_path = get_audio(client, danish_word, language)\n",
    "    return translation, sentence, audio_path, dictionary_form\n"
   ]
  },
  {
   "cell_type": "code",
   "execution_count": 6,
   "metadata": {},
   "outputs": [],
   "source": [
    "def save_to_database(danish_word, translation, sentence, audio_path, dictionary_form):\n",
    "    print(f\"Audio path: {audio_path}\")\n",
    "    deck_id = 2059400110\n",
    "    deck_name = \"Danish\"\n",
    "    model_id = 1607392319\n",
    "    model_name = \"Danish with Audio\"\n",
    "\n",
    "    cards = [\n",
    "        {\n",
    "            \"front\": f\"<div>{danish_word}</div><div>{sentence}</div>\",\n",
    "            \"back\": f\"<div>{translation}</div><div>{dictionary_form}</div>\",\n",
    "            \"front_audio_path\": audio_path,\n",
    "        },\n",
    "        {\n",
    "            \"front\": f\"<div>{translation}</div>\",\n",
    "            \"back\": f\"<div>{danish_word}</div><div>{sentence}</div><div>{dictionary_form}</div>\",\n",
    "            \"back_audio_path\": audio_path,\n",
    "        },\n",
    "    ]\n",
    "\n",
    "    output_path = os.path.join(os.getcwd(), \"danish_deck.apkg\")\n",
    "\n",
    "    try:\n",
    "        deck = insert_or_create_anki_deck(deck_id, deck_name, model_id, model_name, cards, output_path)\n",
    "        print(f\"Anki deck operation completed. Deck file: {output_path}\")\n",
    "        print(f\"Cards in deck: {len(deck.notes)}\")\n",
    "        return f\"Data saved successfully. {len(deck.notes)} cards in Anki deck.\"\n",
    "    except Exception as e:\n",
    "        print(f\"Error creating Anki deck: {e}\")\n",
    "        return f\"Error creating Anki deck: {e}\"\n"
   ]
  },
  {
   "cell_type": "code",
   "execution_count": 7,
   "metadata": {},
   "outputs": [],
   "source": [
    "def process_words(word_list):\n",
    "    results = []\n",
    "    for word in word_list:\n",
    "        translation, sentence, audio_path, dictionary_form = process_word(word)\n",
    "        save_into_database(word, translation, sentence, audio_path, dictionary_form)\n",
    "        result = save_to_database(word, translation, sentence, audio_path, dictionary_form)\n",
    "        results.append(result)\n",
    "    return results\n"
   ]
  },
  {
   "cell_type": "code",
   "execution_count": 8,
   "metadata": {},
   "outputs": [
    {
     "name": "stdout",
     "output_type": "stream",
     "text": [
      "Saving to database: en enke, a widow, En enke sørger stadig over sin afdøde mand., audio_en enke.mp3, enke (substantiv, fælleskøn)\n",
      "Meaning in English: widow\n",
      "Bøjning: enken, enker, enkerne\n",
      "Udtale: [ˈɛŋə]\n",
      "\n",
      "    flertal: enker\n",
      "    genitiv: enkes\n",
      "    Oprindelse: fra gammeldansk enkia, afledt af norrønt enki, som betyder 'én', 'alene'\n",
      "Audio path: audio_en enke.mp3\n",
      "Deck file /mnt/d/OneDrive/Projects/anki-words-builder/notebooks/danish_deck.apkg exists, updating it.\n",
      "Adding 2 cards to the deck...\n",
      "Processing card 1/2\n",
      "Processing card 2/2\n",
      "Updating existing deck at /mnt/d/OneDrive/Projects/anki-words-builder/notebooks/danish_deck.apkg\n",
      "Total cards in deck: 2\n",
      "Anki deck operation completed. Deck file: /mnt/d/OneDrive/Projects/anki-words-builder/notebooks/danish_deck.apkg\n",
      "Error creating Anki deck: 'NoneType' object has no attribute 'notes'\n",
      "Saving to database: et billede, a picture, Jeg har et billede af min familie på skrivebordet., audio_et billede.mp3, billede (substantiv, intetkøn)\n",
      "    Betydning på dansk: et billede\n",
      "    Bøjning: billedet, billeder, billederne\n",
      "    Udtale: [ˈbiləðə]\n",
      "\n",
      "        Oprindelse: af tysk Bilde, afledt af oldnordisk *bill pastil, blok, modsat levende væsen, i betydningen 'udskåret billede', afledt af buld 'skære'\n",
      "Audio path: audio_et billede.mp3\n",
      "Deck file /mnt/d/OneDrive/Projects/anki-words-builder/notebooks/danish_deck.apkg exists, updating it.\n",
      "Adding 2 cards to the deck...\n",
      "Processing card 1/2\n",
      "Processing card 2/2\n",
      "Updating existing deck at /mnt/d/OneDrive/Projects/anki-words-builder/notebooks/danish_deck.apkg\n",
      "Total cards in deck: 2\n",
      "Anki deck operation completed. Deck file: /mnt/d/OneDrive/Projects/anki-words-builder/notebooks/danish_deck.apkg\n",
      "Error creating Anki deck: 'NoneType' object has no attribute 'notes'\n",
      "[\"Error creating Anki deck: 'NoneType' object has no attribute 'notes'\", \"Error creating Anki deck: 'NoneType' object has no attribute 'notes'\"]\n"
     ]
    }
   ],
   "source": [
    "danish_words = [\n",
    "    \"en enke\",\n",
    "    \"et billede\",\n",
    "    # \"et ægteskab\",\n",
    "    # \"Det tror jeg.\",\n",
    "    # \"Det håber jeg.\",\n",
    "    # \"et menneske\",\n",
    "    # \"at tage afsted\",\n",
    "    # \"jeg tager aldrig brusebad\",\n",
    "    # \"jeg er tit sulten...\",\n",
    "    # \"at gøre rent\",\n",
    "    # \"at være er var været\",\n",
    "    # \"at have har havde haft\",\n",
    "    # \"Han bor sammen med sin kone.\",\n",
    "    # \"Han bor sammen med hans kone.\",\n",
    "    # \"Hendes mand kommer i Budapest.\",\n",
    "    # \"et barn børn\",\n",
    "    # \"søskende\",\n",
    "    # \"bedstefar, bedstemor, bedsteforældre\",\n",
    "    # \"Lejlighed\",\n",
    "    # \"så tit\",\n",
    "    # \"at være gift - skilt\",\n",
    "    # \"at læse\",\n",
    "    # \"at lære\",\n",
    "    # \"at studere\",\n",
    "    # \"at savne\",\n",
    "    # \"at tænke på\",\n",
    "    # \"en nationalitet\",\n",
    "    # \"et modersmal\",\n",
    "    # \"at være er\",\n",
    "    # \"at bo bor\",\n",
    "    # \"en sal\",\n",
    "    # \"til højre\",\n",
    "    # \"til venstre\",\n",
    "    # \"et telefonnumer\",\n",
    "    # \"at tro - jeg tror\",\n",
    "    # \"at synes - jeg synes\",\n",
    "    # \"at slappe af\"\n",
    "]\n",
    "\n",
    "process_results = process_words(danish_words)\n",
    "print(process_results)"
   ]
  },
  {
   "cell_type": "code",
   "execution_count": null,
   "metadata": {},
   "outputs": [],
   "source": []
  }
 ],
 "metadata": {
  "kernelspec": {
   "display_name": ".venv",
   "language": "python",
   "name": "python3"
  },
  "language_info": {
   "codemirror_mode": {
    "name": "ipython",
    "version": 3
   },
   "file_extension": ".py",
   "mimetype": "text/x-python",
   "name": "python",
   "nbconvert_exporter": "python",
   "pygments_lexer": "ipython3",
   "version": "3.10.12"
  }
 },
 "nbformat": 4,
 "nbformat_minor": 2
}
