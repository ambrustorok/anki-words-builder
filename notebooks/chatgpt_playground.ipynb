{
 "cells": [
  {
   "cell_type": "code",
   "execution_count": 7,
   "metadata": {},
   "outputs": [
    {
     "name": "stdout",
     "output_type": "stream",
     "text": [
      "Running on local URL:  http://127.0.0.1:7866\n",
      "\n",
      "To create a public link, set `share=True` in `launch()`.\n"
     ]
    },
    {
     "data": {
      "text/html": [
       "<div><iframe src=\"http://127.0.0.1:7866/\" width=\"100%\" height=\"500\" allow=\"autoplay; camera; microphone; clipboard-read; clipboard-write;\" frameborder=\"0\" allowfullscreen></iframe></div>"
      ],
      "text/plain": [
       "<IPython.core.display.HTML object>"
      ]
     },
     "metadata": {},
     "output_type": "display_data"
    },
    {
     "name": "stdout",
     "output_type": "stream",
     "text": [
      "Saving to database: kæreste, noun: kæreste (plural: kærester)\n",
      "\n",
      "1. (noun) boyfriend/girlfriend; partner in a romantic relationship\n",
      "\n",
      "Example: \"Han er min kæreste\" translates to \"He is my boyfriend\" in English., \"De er mine kærester\" betyder \"They are my partners\" på engelsk., audio_kæreste.mp3\n"
     ]
    }
   ],
   "source": [
    "import gradio as gr\n",
    "import os\n",
    "import tempfile\n",
    "import numpy as np\n",
    "import soundfile as sf\n",
    "from dotenv import load_dotenv\n",
    "from openai import OpenAI\n",
    "import random\n",
    "\n",
    "load_dotenv()\n",
    "client = OpenAI()\n",
    "\n",
    "languages = [\n",
    "    'Afrikaans', 'Albanian', 'Amharic', 'Arabic', 'Armenian', 'Azerbaijani', 'Basque', 'Belarusian', \n",
    "    'Bengali', 'Bosnian', 'Bulgarian', 'Catalan', 'Cebuano', 'Chichewa', 'Chinese', 'Corsican', \n",
    "    'Croatian', 'Czech', 'Danish', 'Dutch', 'English', 'Esperanto', 'Estonian', 'Filipino', 'Finnish', \n",
    "    'French', 'Galician', 'Georgian', 'German', 'Greek', 'Gujarati', 'Haitian Creole', 'Hausa', \n",
    "    'Hawaiian', 'Hebrew', 'Hindi', 'Hmong', 'Hungarian', 'Icelandic', 'Igbo', 'Indonesian', \n",
    "    'Irish', 'Italian', 'Japanese', 'Javanese', 'Kannada', 'Kazakh', 'Khmer', 'Kinyarwanda', \n",
    "    'Korean', 'Kurdish', 'Kyrgyz', 'Lao', 'Latin', 'Latvian', 'Lithuanian', 'Luxembourgish', \n",
    "    'Macedonian', 'Malagasy', 'Malay', 'Malayalam', 'Maltese', 'Maori', 'Marathi', 'Mongolian', \n",
    "    'Myanmar (Burmese)', 'Nepali', 'Norwegian', 'Odia', 'Pashto', 'Persian', 'Polish', 'Portuguese', \n",
    "    'Punjabi', 'Romanian', 'Russian', 'Samoan', 'Scots Gaelic', 'Serbian', 'Sesotho', 'Shona', \n",
    "    'Sindhi', 'Sinhala', 'Slovak', 'Slovenian', 'Somali', 'Spanish', 'Sundanese', 'Swahili', \n",
    "    'Swedish', 'Tajik', 'Tamil', 'Tatar', 'Telugu', 'Thai', 'Turkish', 'Turkmen', 'Ukrainian', \n",
    "    'Urdu', 'Uyghur', 'Uzbek', 'Vietnamese', 'Welsh', 'Xhosa', 'Yiddish', 'Yoruba', 'Zulu'\n",
    "]\n",
    "\n",
    "\n",
    "def translate_word(word, source_lang=\"da\", target_lang=\"en\"):\n",
    "    response = client.chat.completions.create(\n",
    "        model=\"gpt-3.5-turbo\",\n",
    "        messages=[\n",
    "            {\"role\": \"system\", \"content\": f\"You are a translator from {source_lang} to {target_lang}. Your output should be similar to a dictionary definition.\"},\n",
    "            {\"role\": \"user\", \"content\": f\"Translate the word: {word}\"}\n",
    "        ]\n",
    "    )\n",
    "    return response.choices[0].message.content.strip()\n",
    "\n",
    "def generate_sentence(word, language=\"en\"):\n",
    "    response = client.chat.completions.create(\n",
    "        model=\"gpt-3.5-turbo\",\n",
    "        messages=[\n",
    "            {\"role\": \"system\", \"content\": f\"You are a sentence generator in {language}.\"},\n",
    "            {\"role\": \"user\", \"content\": f\"Generate a simple sentence using the word: {word}\"}\n",
    "        ]\n",
    "    )\n",
    "    return response.choices[0].message.content.strip()\n",
    "\n",
    "def add_silence(input_file, output_file, silence_duration_sec=0.5):\n",
    "    data, samplerate = sf.read(input_file)\n",
    "    silence_samples = int(silence_duration_sec * samplerate)\n",
    "    silence = np.zeros((silence_samples, data.shape[1])) if data.ndim > 1 else np.zeros(silence_samples)\n",
    "    new_data = np.concatenate((silence, data), axis=0)\n",
    "    sf.write(output_file, new_data, samplerate)\n",
    "\n",
    "def get_audio(text, lang=\"da\"):\n",
    "    voices = [\"alloy\", \"echo\", \"fable\", \"onyx\", \"nova\", \"shimmer\"]\n",
    "    selected_voice = random.choice(voices)\n",
    "    prompt = f\"Følgende tekst er dansk: '{text}'\"\n",
    "\n",
    "    with tempfile.NamedTemporaryFile(delete=False, suffix=\".mp3\") as temp_audio_file:\n",
    "        temp_audio_path = temp_audio_file.name\n",
    "        with client.audio.speech.with_streaming_response.create(\n",
    "            model=\"tts-1\",\n",
    "            voice=selected_voice,\n",
    "            input=prompt,\n",
    "        ) as response:\n",
    "            response.stream_to_file(temp_audio_path)\n",
    "\n",
    "    output_file_path = f\"audio_{text}.mp3\"\n",
    "    add_silence(temp_audio_path, output_file_path, silence_duration_sec=1)\n",
    "    os.remove(temp_audio_path)\n",
    "    return output_file_path\n",
    "\n",
    "def save_into_database(word, translation, sentence, audio_path):\n",
    "    # Implement your database saving logic here\n",
    "    print(f\"Saving to database: {word}, {translation}, {sentence}, {audio_path}\")\n",
    "    return \"Data saved successfully\"\n",
    "\n",
    "def process_word(danish_word, custom_sentence=\"\", language=\"\"):\n",
    "    translation = translate_word(danish_word, language)\n",
    "    sentence = custom_sentence if custom_sentence else generate_sentence(translation, language)\n",
    "    audio_path = get_audio(danish_word, language)\n",
    "    \n",
    "    # Save to database\n",
    "    save_result = save_into_database(danish_word, translation, sentence, audio_path)\n",
    "    \n",
    "    return translation, sentence, audio_path, save_result\n",
    "\n",
    "# Gradio interface\n",
    "iface = gr.Interface(\n",
    "    fn=process_word,\n",
    "    inputs=[\n",
    "        gr.Textbox(label=\"Danish Word\"),\n",
    "        gr.Textbox(label=\"Custom Sentence (optional)\"),\n",
    "        gr.Dropdown(\n",
    "            choices = languages, \n",
    "            value=\"Danish\", \n",
    "            label=\"Language\", \n",
    "        ),\n",
    "    ],\n",
    "    outputs=[\n",
    "        gr.Textbox(label=\"English Translation\"),\n",
    "        gr.Textbox(label=\"Generated/Custom Sentence\"),\n",
    "        gr.Audio(label=\"Pronunciation\"),\n",
    "        gr.Textbox(label=\"Database Save Result\")\n",
    "    ],\n",
    "    title=\"Danish-English Language Learning App\",\n",
    "    description=\"Enter a Danish word to get its English translation, a sample sentence, and pronunciation.\"\n",
    ")\n",
    "\n",
    "if __name__ == \"__main__\":\n",
    "    iface.launch()"
   ]
  },
  {
   "cell_type": "code",
   "execution_count": null,
   "metadata": {},
   "outputs": [],
   "source": []
  }
 ],
 "metadata": {
  "kernelspec": {
   "display_name": ".venv",
   "language": "python",
   "name": "python3"
  },
  "language_info": {
   "codemirror_mode": {
    "name": "ipython",
    "version": 3
   },
   "file_extension": ".py",
   "mimetype": "text/x-python",
   "name": "python",
   "nbconvert_exporter": "python",
   "pygments_lexer": "ipython3",
   "version": "3.10.12"
  }
 },
 "nbformat": 4,
 "nbformat_minor": 2
}
